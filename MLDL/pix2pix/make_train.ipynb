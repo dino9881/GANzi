{
  "nbformat": 4,
  "nbformat_minor": 0,
  "metadata": {
    "colab": {
      "provenance": [],
      "machine_shape": "hm",
      "gpuType": "T4"
    },
    "kernelspec": {
      "name": "python3",
      "display_name": "Python 3"
    },
    "language_info": {
      "name": "python"
    },
    "accelerator": "GPU"
  },
  "cells": [
    {
      "cell_type": "code",
      "source": [
        "from google.colab import drive\n",
        "drive.mount('/content/drive')"
      ],
      "metadata": {
        "colab": {
          "base_uri": "https://localhost:8080/"
        },
        "id": "HimXpfZw6x5C",
        "outputId": "e25bddb2-faec-4597-e795-b4600dcd7fed"
      },
      "execution_count": null,
      "outputs": [
        {
          "output_type": "stream",
          "name": "stdout",
          "text": [
            "Drive already mounted at /content/drive; to attempt to forcibly remount, call drive.mount(\"/content/drive\", force_remount=True).\n"
          ]
        }
      ]
    },
    {
      "cell_type": "code",
      "execution_count": null,
      "metadata": {
        "colab": {
          "base_uri": "https://localhost:8080/"
        },
        "id": "yUF97OpF6uBn",
        "outputId": "0c55a967-5c72-45b6-805f-3ee0a263aea8"
      },
      "outputs": [
        {
          "output_type": "stream",
          "name": "stdout",
          "text": [
            "/content/drive/MyDrive/pytorch-CycleGAN-and-pix2pix\n"
          ]
        }
      ],
      "source": [
        "%cd /content/drive/MyDrive/pytorch-CycleGAN-and-pix2pix"
      ]
    },
    {
      "cell_type": "code",
      "source": [
        "!pip install dominate\n",
        "!pip install wandb\n",
        "#!pip install visdom"
      ],
      "metadata": {
        "colab": {
          "base_uri": "https://localhost:8080/"
        },
        "id": "NIR0IG81EWg4",
        "outputId": "8abd530d-09c0-421c-af08-593b4e1a796e"
      },
      "execution_count": null,
      "outputs": [
        {
          "output_type": "stream",
          "name": "stdout",
          "text": [
            "Requirement already satisfied: dominate in /usr/local/lib/python3.10/dist-packages (2.8.0)\n",
            "Requirement already satisfied: wandb in /usr/local/lib/python3.10/dist-packages (0.15.10)\n",
            "Requirement already satisfied: Click!=8.0.0,>=7.1 in /usr/local/lib/python3.10/dist-packages (from wandb) (8.1.7)\n",
            "Requirement already satisfied: GitPython!=3.1.29,>=1.0.0 in /usr/local/lib/python3.10/dist-packages (from wandb) (3.1.35)\n",
            "Requirement already satisfied: requests<3,>=2.0.0 in /usr/local/lib/python3.10/dist-packages (from wandb) (2.31.0)\n",
            "Requirement already satisfied: psutil>=5.0.0 in /usr/local/lib/python3.10/dist-packages (from wandb) (5.9.5)\n",
            "Requirement already satisfied: sentry-sdk>=1.0.0 in /usr/local/lib/python3.10/dist-packages (from wandb) (1.30.0)\n",
            "Requirement already satisfied: docker-pycreds>=0.4.0 in /usr/local/lib/python3.10/dist-packages (from wandb) (0.4.0)\n",
            "Requirement already satisfied: PyYAML in /usr/local/lib/python3.10/dist-packages (from wandb) (6.0.1)\n",
            "Requirement already satisfied: pathtools in /usr/local/lib/python3.10/dist-packages (from wandb) (0.1.2)\n",
            "Requirement already satisfied: setproctitle in /usr/local/lib/python3.10/dist-packages (from wandb) (1.3.2)\n",
            "Requirement already satisfied: setuptools in /usr/local/lib/python3.10/dist-packages (from wandb) (67.7.2)\n",
            "Requirement already satisfied: appdirs>=1.4.3 in /usr/local/lib/python3.10/dist-packages (from wandb) (1.4.4)\n",
            "Requirement already satisfied: protobuf!=4.21.0,<5,>=3.19.0 in /usr/local/lib/python3.10/dist-packages (from wandb) (3.20.3)\n",
            "Requirement already satisfied: six>=1.4.0 in /usr/local/lib/python3.10/dist-packages (from docker-pycreds>=0.4.0->wandb) (1.16.0)\n",
            "Requirement already satisfied: gitdb<5,>=4.0.1 in /usr/local/lib/python3.10/dist-packages (from GitPython!=3.1.29,>=1.0.0->wandb) (4.0.10)\n",
            "Requirement already satisfied: charset-normalizer<4,>=2 in /usr/local/lib/python3.10/dist-packages (from requests<3,>=2.0.0->wandb) (3.2.0)\n",
            "Requirement already satisfied: idna<4,>=2.5 in /usr/local/lib/python3.10/dist-packages (from requests<3,>=2.0.0->wandb) (3.4)\n",
            "Requirement already satisfied: urllib3<3,>=1.21.1 in /usr/local/lib/python3.10/dist-packages (from requests<3,>=2.0.0->wandb) (2.0.4)\n",
            "Requirement already satisfied: certifi>=2017.4.17 in /usr/local/lib/python3.10/dist-packages (from requests<3,>=2.0.0->wandb) (2023.7.22)\n",
            "Requirement already satisfied: smmap<6,>=3.0.1 in /usr/local/lib/python3.10/dist-packages (from gitdb<5,>=4.0.1->GitPython!=3.1.29,>=1.0.0->wandb) (5.0.0)\n"
          ]
        }
      ]
    },
    {
      "cell_type": "code",
      "source": [
        "import torch\n",
        "device = torch.device('cuda' if torch.cuda.is_available() else 'cpu')\n",
        "device"
      ],
      "metadata": {
        "colab": {
          "base_uri": "https://localhost:8080/"
        },
        "id": "9-QVAfHYEgs_",
        "outputId": "e7041dda-1da3-4fa8-a117-e7720b68b3fc"
      },
      "execution_count": null,
      "outputs": [
        {
          "output_type": "execute_result",
          "data": {
            "text/plain": [
              "device(type='cuda')"
            ]
          },
          "metadata": {},
          "execution_count": 4
        }
      ]
    },
    {
      "cell_type": "code",
      "source": [
        "# !python train.py --batch_size 1 \\\n",
        "#                  --checkpoints_dir ./checkpoints \\\n",
        "#                  --crop_size 320 \\\n",
        "#                  --dataroot /content/drive/MyDrive/StyleGAN2/StyleGAN2-ada_Toonify/pair_dataset \\\n",
        "#                  -- name metfaces_pix2pix_0909 \\\n",
        "#                  --dataset_mode aligned \\\n",
        "#                  --direction AtoB \\\n",
        "#                  --epoch_count 1 \\\n",
        "#                  --gan_mode wgangp \\ #[vanilla| lsgan | wgangp]\n",
        "#                  #--gpu_ids 0 \\\n",
        "#                  --init_type normal \\ #[normal | xavier | kaiming | orthogonal]\n",
        "#                  --load_size 320 \\\n",
        "#                  --lr 0.0002 \\\n",
        "#                  --model pix2pix \\\n",
        "#                  --n_epochs 150 \\\n",
        "#                  --n_epochs_decay 150 \\\n",
        "#                  --n_layers_D 3 \\\n",
        "#                  --ndf 64 \\\n",
        "#                  --ngf 64 \\\n",
        "#                  --netD basic \\ #[basic | n_layers | pixel]\n",
        "#                  --netG resnet_9blocks \\ #[resnet_9blocks | resnet_6blocks | unet_256 | unet_128]\n",
        "#                  --norm instance \\ #[instance | batch | none]\n",
        "#                  --preprocess resize_and_crop \\\n",
        "#                  --save_epoch_freq 10 \\\n",
        "#                  --rotate_perspective"
      ],
      "metadata": {
        "id": "0JihezoT67Jh"
      },
      "execution_count": null,
      "outputs": []
    },
    {
      "cell_type": "code",
      "source": [
        "!python train.py --batch_size 1 \\\n",
        "--crop_size 320 \\\n",
        "--dataroot /content/drive/MyDrive/StyleGAN2/StyleGAN2-ada_Toonify/pair_dataset \\\n",
        "--name metfaces_pix2pix_0909 \\\n",
        "--dataset_mode aligned \\\n",
        "--direction AtoB \\\n",
        "--epoch_count 1 \\\n",
        "--gan_mode wgangp \\\n",
        "--init_type normal \\\n",
        "--load_size 320 \\\n",
        "--lr 0.0002 \\\n",
        "--model pix2pix \\\n",
        "--n_epochs 150 \\\n",
        "--n_epochs_decay 150 \\\n",
        "--n_layers_D 3 \\\n",
        "--ndf 64 \\\n",
        "--ngf 64 \\\n",
        "--netD basic \\\n",
        "--netG resnet_9blocks \\\n",
        "--norm instance \\\n",
        "--preprocess resize_and_crop \\\n",
        "--save_epoch_freq 10 \\\n",
        "--rotate_perspective"
      ],
      "metadata": {
        "id": "KbxcqJATBH3M"
      },
      "execution_count": null,
      "outputs": []
    },
    {
      "cell_type": "code",
      "source": [],
      "metadata": {
        "id": "OLTPWz7ZBrBM"
      },
      "execution_count": null,
      "outputs": []
    }
  ]
}